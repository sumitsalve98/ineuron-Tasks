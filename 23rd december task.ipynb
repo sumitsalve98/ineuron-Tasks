{
 "cells": [
  {
   "cell_type": "code",
   "execution_count": 1,
   "id": "b3378a31",
   "metadata": {},
   "outputs": [
    {
     "data": {
      "text/plain": [
       "24"
      ]
     },
     "execution_count": 1,
     "metadata": {},
     "output_type": "execute_result"
    }
   ],
   "source": [
    "#1 . you have to write a fun which will take string and return a len of it without using a inbuilt fun len\n",
    "\n",
    "def showmelen(a):\n",
    "    if type(a) == str:\n",
    "        b = 0\n",
    "        for i in a:\n",
    "            b += 1\n",
    "    return b\n",
    "\n",
    "\n",
    "showmelen(\"this is my first fuction\")"
   ]
  },
  {
   "cell_type": "code",
   "execution_count": 4,
   "id": "99f2c512",
   "metadata": {},
   "outputs": [
    {
     "name": "stdout",
     "output_type": "stream",
     "text": [
      "0 is index of 95\n",
      "1 is index of 48\n",
      "2 is index of 3\n",
      "3 is index of 9.88\n",
      "4 is index of 5\n",
      "5 is index of 8.5\n",
      "6 is index of sumit\n"
     ]
    }
   ],
   "source": [
    "#2 . write a fun which will be able to print an index of all premitive element which you will pass\n",
    "\n",
    "def showindex(*args):\n",
    "    a = []\n",
    "    for j in args:\n",
    "        a.append(j)\n",
    "    for i in range(len(a)):\n",
    "        print(f\"{i} is index of {a[i]}\")\n",
    "        \n",
    "showindex(95,48,3,9.88,5,8.5 ,\"sumit\")"
   ]
  },
  {
   "cell_type": "code",
   "execution_count": 5,
   "id": "ccfa9874",
   "metadata": {},
   "outputs": [
    {
     "data": {
      "text/plain": [
       "[12,\n",
       " 14,\n",
       " 16,\n",
       " 22,\n",
       " 24,\n",
       " 26,\n",
       " 39,\n",
       " 24,\n",
       " 23,\n",
       " 432,\n",
       " 535,\n",
       " 456,\n",
       " 453,\n",
       " 13,\n",
       " 1,\n",
       " 23,\n",
       " 534,\n",
       " 23,\n",
       " 13,\n",
       " 42535,\n",
       " 23,\n",
       " 'data']"
      ]
     },
     "execution_count": 5,
     "metadata": {},
     "output_type": "execute_result"
    }
   ],
   "source": [
    "#3 . Write a fun which will take input as a dict and give me out as a list of all the values even in case of 2 level nesting it should work .\n",
    "\n",
    "def shoval(a):\n",
    "    \n",
    "    values = []\n",
    "    if type(a)== dict:\n",
    "        for i in a.values():\n",
    "            if type(i)==str or type(i)==int:\n",
    "                values.append(i)\n",
    "            elif type(i)== dict:\n",
    "                for j in i.values():\n",
    "                    values.append(j)\n",
    "            elif type(i)== list:\n",
    "                for k in i:\n",
    "                    values.append(k)\n",
    "            elif type(i)== tuple:\n",
    "                for l in i:\n",
    "                    values.append(l)      \n",
    "    return values    \n",
    "\n",
    "\n",
    "D = {'ineuron': {'a': 12, 'b': 14, 'c': 16}, 'course': {'d': 22, 'e': 24, 'f': 26} , \"g\":39 , \"l\": 24 ,  \"h\": [23,432,535,456,453,13,1] , \"i\":(23,534,23,13,42535,23) , \"sumit\":\"data\"}\n",
    "\n",
    "shoval(D)"
   ]
  },
  {
   "cell_type": "code",
   "execution_count": 11,
   "id": "4f89c7ac",
   "metadata": {},
   "outputs": [],
   "source": [
    "#4 . write a fun which will take another function as an input and return me an output \n",
    "\n"
   ]
  },
  {
   "cell_type": "code",
   "execution_count": 15,
   "id": "dcad422f",
   "metadata": {},
   "outputs": [
    {
     "data": {
      "text/plain": [
       "['sumit', 34.45, 43, 34, 1, 2, 3.4, 'python', 'data science']"
      ]
     },
     "execution_count": 15,
     "metadata": {},
     "output_type": "execute_result"
    }
   ],
   "source": [
    "#5. write a function whihc will take multiple list as a input and give me concatnation of all the element as and output \n",
    "\n",
    "def concatnation(*args):\n",
    "    output = []\n",
    "    for i in args:\n",
    "        if type(i) == list:\n",
    "            output.extend(i)\n",
    "        else:\n",
    "            print(\"only lists can be taken as input\")\n",
    "    return output\n",
    "        \n",
    "    \n",
    "concatnation([\"sumit\",34.45,43,34] , [1,2,3.4] , [\"python\",\"data science\"])"
   ]
  },
  {
   "cell_type": "code",
   "execution_count": 3,
   "id": "2457ca85",
   "metadata": {},
   "outputs": [],
   "source": [
    "#6 . write a function which will be able to take a list as an input return an index of each element like a inbuilt index function but even if we have repetative element it should return index\n",
    "\n",
    "\n",
    "def indexoflist():\n",
    "    \n",
    "    a = input(\"create a list\")\n",
    "    b = input(\"enter object to find its index\")\n",
    "    index = 0\n",
    "    for i in a:\n",
    "        print(i)\n",
    "        if i != b:\n",
    "            index +=1\n",
    "        elif i == b:\n",
    "            index +=1\n",
    "            print(index)\n",
    "        else:\n",
    "            print(\"object not found\")\n",
    "      \n",
    "       \n",
    "    \n",
    "   \n",
    "        \n",
    "\n",
    "#copy this list = [95,48,3,9.88,5,8.5 ,\"sumit\" , \"sumit\" , \"sumit\"]\n",
    "#this code is not giving any of output "
   ]
  },
  {
   "cell_type": "code",
   "execution_count": 2,
   "id": "34fea2d9",
   "metadata": {},
   "outputs": [
    {
     "name": "stdout",
     "output_type": "stream",
     "text": [
      "paste directory pathD:\\\n"
     ]
    },
    {
     "data": {
      "text/plain": [
       "['20210131_174621.jpg',\n",
       " '20210131_174718.jpg',\n",
       " '20220221_131135.jpg',\n",
       " 'domacile.pdf',\n",
       " 'income.pdf',\n",
       " 'LC.pdf',\n",
       " 'SALVE SUMIT RAJU - 1006 - 210222122627.pdf',\n",
       " 'SALVE SUMIT RAJU - 219 - 210222122039.pdf']"
      ]
     },
     "execution_count": 2,
     "metadata": {},
     "output_type": "execute_result"
    }
   ],
   "source": [
    "#7 . Write a function which will whould return list of all the file name from a directory .\n",
    "\n",
    "def showallfiles():\n",
    "    import os\n",
    "    dir = input(\"paste directory path\")\n",
    "    list_of_files = []\n",
    "    for root, dirs, files in os.walk(dir):\n",
    "        for filename in files:\n",
    "            list_of_files.append(filename)\n",
    "        return list_of_files\n",
    "    \n",
    "\n",
    "            \n",
    "showallfiles()"
   ]
  },
  {
   "cell_type": "code",
   "execution_count": 22,
   "id": "2dd578c2",
   "metadata": {},
   "outputs": [
    {
     "name": "stdout",
     "output_type": "stream",
     "text": [
      "System: Windows\n",
      "Node Name: LAPTOP-BV0FIF2G\n",
      "Release: 10\n",
      "Version: 10.0.22000\n",
      "Machine: AMD64\n",
      "Processor: Intel64 Family 6 Model 165 Stepping 2, GenuineIntel\n"
     ]
    }
   ],
   "source": [
    "#8  . write a function which will be able to show your system configuration .\n",
    "\n",
    "\n",
    "def systemconfig():\n",
    "    import platform\n",
    "\n",
    "    uname = platform.uname()\n",
    "    print(f\"System: {uname.system}\")\n",
    "    print(f\"Node Name: {uname.node}\")\n",
    "    print(f\"Release: {uname.release}\")\n",
    "    print(f\"Version: {uname.version}\")\n",
    "    print(f\"Machine: {uname.machine}\")\n",
    "    print(f\"Processor: {uname.processor}\")\n",
    "systemconfig()"
   ]
  },
  {
   "cell_type": "code",
   "execution_count": 36,
   "id": "a4485cb8",
   "metadata": {},
   "outputs": [
    {
     "name": "stdout",
     "output_type": "stream",
     "text": [
      "22-02-27 16:41:35\n"
     ]
    }
   ],
   "source": [
    "#9 . write a function which will be able to show date and time  . \n",
    "\n",
    "def showtime():\n",
    "    import datetime\n",
    "    now = datetime.datetime.now()\n",
    "    print (now.strftime(\"%y-%m-%d %H:%M:%S\"))\n",
    "showtime()"
   ]
  },
  {
   "cell_type": "code",
   "execution_count": 4,
   "id": "39044731",
   "metadata": {},
   "outputs": [
    {
     "name": "stdout",
     "output_type": "stream",
     "text": [
      "enter img file name from cwdDSC_0088 copy.jpg\n"
     ]
    }
   ],
   "source": [
    "#10 . write a function whihc will be able to read a image file and show it to you\n",
    "\n",
    "def showimage():\n",
    "    import cv2\n",
    "    img = cv2.imread(str(input(\"enter img file name from cwd\")))\n",
    "    cv2.imshow('image',img)\n",
    "    cv2.waitKey(0)\n",
    "    cv2.destroyAllWindows()\n",
    "showimage()"
   ]
  },
  {
   "cell_type": "code",
   "execution_count": null,
   "id": "6c315463",
   "metadata": {},
   "outputs": [],
   "source": [
    "#12. write a function whihc can move a file from one directory to another directory . \n",
    "\n",
    "def moveallfiles():\n",
    "    import os\n",
    "    import shutil\n",
    "\n",
    "    source_folder = input(\"select source folder\")\n",
    "    destination_folder = input(\"select destination folder\") \n",
    "\n",
    "    for file_name in os.listdir(source_folder):\n",
    "        source = os.path.join(source_folder, file_name)\n",
    "        destination = os.path.join(destination_folder, file_name)\n",
    "        if os.path.isfile(source):\n",
    "            shutil.move(source, destination)\n",
    "            print('Moved:', file_name)\n",
    "\n",
    "moveallfiles()"
   ]
  },
  {
   "cell_type": "code",
   "execution_count": null,
   "id": "97543fe9",
   "metadata": {},
   "outputs": [],
   "source": [
    "#13 . write a function which will be able to shutdonw your system .\n",
    "#14 . write a function whihc will be able to access your mail .\n",
    "#15 . write a func bywhcih i can send a mail to anyone"
   ]
  },
  {
   "cell_type": "code",
   "execution_count": null,
   "id": "347d8cdc",
   "metadata": {},
   "outputs": [
    {
     "name": "stdout",
     "output_type": "stream",
     "text": [
      "Requirement already satisfied: PyPDF2 in c:\\users\\sumit\\anaconda3\\lib\\site-packages (1.26.0)\n"
     ]
    }
   ],
   "source": [
    "#16. write a func to read a complete PDf file .\n",
    "\n",
    "def readmypdf():\n",
    "    !pip install PyPDF2\n",
    "    import PyPDF2\n",
    "    pdfFilename = open(input(\"enter full file path\"), 'rb')\n",
    "    pdfReader = PyPDF2.PdfFileReader(pdfFilename)\n",
    "    a = (pdfReader.numPages)\n",
    "    pagenum = pdfReader.getPage(0-a)\n",
    "    print(pagenum.extractText())\n",
    "\n",
    "    pdfFilename.close()\n",
    "\n",
    "readmypdf()"
   ]
  },
  {
   "cell_type": "code",
   "execution_count": 14,
   "id": "8a375ed8",
   "metadata": {},
   "outputs": [
    {
     "ename": "ModuleNotFoundError",
     "evalue": "No module named 'exceptions'",
     "output_type": "error",
     "traceback": [
      "\u001b[1;31m---------------------------------------------------------------------------\u001b[0m",
      "\u001b[1;31mModuleNotFoundError\u001b[0m                       Traceback (most recent call last)",
      "\u001b[1;32m~\\AppData\\Local\\Temp/ipykernel_10872/1210047471.py\u001b[0m in \u001b[0;36m<module>\u001b[1;34m\u001b[0m\n\u001b[0;32m      8\u001b[0m         \u001b[0mprint\u001b[0m\u001b[1;33m(\u001b[0m\u001b[0mpara\u001b[0m\u001b[1;33m.\u001b[0m\u001b[0mtext\u001b[0m\u001b[1;33m)\u001b[0m\u001b[1;33m\u001b[0m\u001b[1;33m\u001b[0m\u001b[0m\n\u001b[0;32m      9\u001b[0m \u001b[1;33m\u001b[0m\u001b[0m\n\u001b[1;32m---> 10\u001b[1;33m \u001b[0mreadthisword\u001b[0m\u001b[1;33m(\u001b[0m\u001b[1;33m)\u001b[0m\u001b[1;33m\u001b[0m\u001b[1;33m\u001b[0m\u001b[0m\n\u001b[0m",
      "\u001b[1;32m~\\AppData\\Local\\Temp/ipykernel_10872/1210047471.py\u001b[0m in \u001b[0;36mreadthisword\u001b[1;34m()\u001b[0m\n\u001b[0;32m      2\u001b[0m \u001b[1;33m\u001b[0m\u001b[0m\n\u001b[0;32m      3\u001b[0m \u001b[1;32mdef\u001b[0m \u001b[0mreadthisword\u001b[0m\u001b[1;33m(\u001b[0m\u001b[1;33m)\u001b[0m\u001b[1;33m:\u001b[0m\u001b[1;33m\u001b[0m\u001b[1;33m\u001b[0m\u001b[0m\n\u001b[1;32m----> 4\u001b[1;33m     \u001b[1;32mimport\u001b[0m \u001b[0mdocx\u001b[0m\u001b[1;33m\u001b[0m\u001b[1;33m\u001b[0m\u001b[0m\n\u001b[0m\u001b[0;32m      5\u001b[0m     \u001b[0mdoc\u001b[0m \u001b[1;33m=\u001b[0m \u001b[0mdocx\u001b[0m\u001b[1;33m.\u001b[0m\u001b[0mDocument\u001b[0m\u001b[1;33m(\u001b[0m\u001b[0minput\u001b[0m\u001b[1;33m(\u001b[0m\u001b[1;34m\"enter path\"\u001b[0m\u001b[1;33m)\u001b[0m\u001b[1;33m)\u001b[0m\u001b[1;33m\u001b[0m\u001b[1;33m\u001b[0m\u001b[0m\n\u001b[0;32m      6\u001b[0m     \u001b[0mall_paras\u001b[0m \u001b[1;33m=\u001b[0m \u001b[0mdoc\u001b[0m\u001b[1;33m.\u001b[0m\u001b[0mparagraphs\u001b[0m\u001b[1;33m\u001b[0m\u001b[1;33m\u001b[0m\u001b[0m\n",
      "\u001b[1;32m~\\anaconda3\\lib\\site-packages\\docx.py\u001b[0m in \u001b[0;36m<module>\u001b[1;34m\u001b[0m\n\u001b[0;32m     28\u001b[0m     \u001b[0mTAGS\u001b[0m \u001b[1;33m=\u001b[0m \u001b[1;33m{\u001b[0m\u001b[1;33m}\u001b[0m\u001b[1;33m\u001b[0m\u001b[1;33m\u001b[0m\u001b[0m\n\u001b[0;32m     29\u001b[0m \u001b[1;33m\u001b[0m\u001b[0m\n\u001b[1;32m---> 30\u001b[1;33m \u001b[1;32mfrom\u001b[0m \u001b[0mexceptions\u001b[0m \u001b[1;32mimport\u001b[0m \u001b[0mPendingDeprecationWarning\u001b[0m\u001b[1;33m\u001b[0m\u001b[1;33m\u001b[0m\u001b[0m\n\u001b[0m\u001b[0;32m     31\u001b[0m \u001b[1;32mfrom\u001b[0m \u001b[0mwarnings\u001b[0m \u001b[1;32mimport\u001b[0m \u001b[0mwarn\u001b[0m\u001b[1;33m\u001b[0m\u001b[1;33m\u001b[0m\u001b[0m\n\u001b[0;32m     32\u001b[0m \u001b[1;33m\u001b[0m\u001b[0m\n",
      "\u001b[1;31mModuleNotFoundError\u001b[0m: No module named 'exceptions'"
     ]
    }
   ],
   "source": [
    "#17. write a function to read a word file .\n",
    "\n",
    "def readthisword():\n",
    "    import docx\n",
    "    doc = docx.Document(input(\"enter path\"))\n",
    "    all_paras = doc.paragraphs\n",
    "    for para in all_paras:\n",
    "        print(para.text)\n",
    "    \n",
    "readthisword()"
   ]
  },
  {
   "cell_type": "code",
   "execution_count": 24,
   "id": "322ae60d",
   "metadata": {},
   "outputs": [
    {
     "name": "stdout",
     "output_type": "stream",
     "text": [
      "paste directory pathD:\\\n"
     ]
    },
    {
     "data": {
      "text/plain": [
       "['test.docx']"
      ]
     },
     "execution_count": 24,
     "metadata": {},
     "output_type": "execute_result"
    }
   ],
   "source": [
    "#18 . write a function which can help you to filter only word file from a directory . \n",
    "\n",
    "def showallfiles():\n",
    "    import os\n",
    "    dir = input(\"paste directory path\")\n",
    "    list_of_files = []\n",
    "    wordfile = []\n",
    "    for root, dirs, files in os.walk(dir):\n",
    "        for filename in files:\n",
    "            if filename.endswith('docx' or 'doc'):\n",
    "                list_of_files.append(filename)\n",
    "        return list_of_files\n",
    "    \n",
    "    \n",
    "\n",
    "            \n",
    "showallfiles()"
   ]
  },
  {
   "cell_type": "code",
   "execution_count": 26,
   "id": "8b2015ad",
   "metadata": {},
   "outputs": [
    {
     "name": "stdout",
     "output_type": "stream",
     "text": [
      "Hostname: LAPTOP-BV0FIF2G\n",
      "IP Address: 20.24.3.176\n"
     ]
    }
   ],
   "source": [
    "#19 . write a function by which you can print an ip address of your system . \n",
    "\n",
    "def printIP():\n",
    "    import socket\n",
    "    hostname = socket.gethostname()\n",
    "    ip_address = socket.gethostbyname(hostname)\n",
    "    print(f\"Hostname: {hostname}\")\n",
    "    print(f\"IP Address: {ip_address}\")\n",
    "    \n",
    "    \n",
    "    \n",
    "printIP()"
   ]
  },
  {
   "cell_type": "code",
   "execution_count": 5,
   "id": "27201bfc",
   "metadata": {},
   "outputs": [
    {
     "name": "stdout",
     "output_type": "stream",
     "text": [
      "enter 1st file pathD:\\income.pdf\n",
      "enter 2nd file pathD:\\LC.pdf\n",
      "operation succeed check your pdw\n"
     ]
    }
   ],
   "source": [
    "#20 . write a function by which you will be able to append two PDF files \n",
    "\n",
    "def combine2pdf():\n",
    "    import PyPDF2 \n",
    "    mergeFile = PyPDF2.PdfFileMerger()\n",
    "    mergeFile.append(PyPDF2.PdfFileReader(input(\"enter 1st file path\"), 'rb'))\n",
    "    mergeFile.append(PyPDF2.PdfFileReader(input(\"enter 2nd file path\"), 'rb'))\n",
    "    mergeFile.write(\"NewMergedFile.pdf\")\n",
    "    print(\"operation succeed check your pdw\")\n",
    "\n",
    "\n",
    "    \n",
    "combine2pdf()\n"
   ]
  }
 ],
 "metadata": {
  "kernelspec": {
   "display_name": "Python 3 (ipykernel)",
   "language": "python",
   "name": "python3"
  },
  "language_info": {
   "codemirror_mode": {
    "name": "ipython",
    "version": 3
   },
   "file_extension": ".py",
   "mimetype": "text/x-python",
   "name": "python",
   "nbconvert_exporter": "python",
   "pygments_lexer": "ipython3",
   "version": "3.9.7"
  }
 },
 "nbformat": 4,
 "nbformat_minor": 5
}
